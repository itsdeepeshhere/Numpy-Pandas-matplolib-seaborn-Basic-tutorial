{
 "cells": [
  {
   "cell_type": "code",
   "execution_count": 3,
   "id": "db6414cf",
   "metadata": {},
   "outputs": [
    {
     "data": {
      "text/plain": [
       "array([10, 20, 30, 40])"
      ]
     },
     "execution_count": 3,
     "metadata": {},
     "output_type": "execute_result"
    }
   ],
   "source": [
    "import numpy as np\n",
    "n1=np.array([10,20,30,40])\n",
    "n1"
   ]
  },
  {
   "cell_type": "code",
   "execution_count": 4,
   "id": "53da4f65",
   "metadata": {},
   "outputs": [
    {
     "data": {
      "text/plain": [
       "array([[10, 20, 30, 40],\n",
       "       [30, 67, 38, 20]])"
      ]
     },
     "execution_count": 4,
     "metadata": {},
     "output_type": "execute_result"
    }
   ],
   "source": [
    "n2=np.array([[10,20,30,40],[30,67,38,20]])\n",
    "n2"
   ]
  },
  {
   "cell_type": "markdown",
   "id": "b5b792c5",
   "metadata": {},
   "source": [
    "### Numpy zeroes-"
   ]
  },
  {
   "cell_type": "code",
   "execution_count": 5,
   "id": "42a15945",
   "metadata": {},
   "outputs": [
    {
     "data": {
      "text/plain": [
       "array([[0., 0.]])"
      ]
     },
     "execution_count": 5,
     "metadata": {},
     "output_type": "execute_result"
    }
   ],
   "source": [
    "n3=np.zeros((1,2))\n",
    "n3"
   ]
  },
  {
   "cell_type": "code",
   "execution_count": 6,
   "id": "08a9e361",
   "metadata": {},
   "outputs": [
    {
     "data": {
      "text/plain": [
       "array([[0., 0., 0., 0., 0.],\n",
       "       [0., 0., 0., 0., 0.],\n",
       "       [0., 0., 0., 0., 0.],\n",
       "       [0., 0., 0., 0., 0.],\n",
       "       [0., 0., 0., 0., 0.]])"
      ]
     },
     "execution_count": 6,
     "metadata": {},
     "output_type": "execute_result"
    }
   ],
   "source": [
    "n4=np.zeros((5,5))\n",
    "n4"
   ]
  },
  {
   "cell_type": "code",
   "execution_count": 7,
   "id": "d19a05f7",
   "metadata": {},
   "outputs": [
    {
     "data": {
      "text/plain": [
       "numpy.ndarray"
      ]
     },
     "execution_count": 7,
     "metadata": {},
     "output_type": "execute_result"
    }
   ],
   "source": [
    "type(n4)"
   ]
  },
  {
   "cell_type": "markdown",
   "id": "fce917b9",
   "metadata": {},
   "source": [
    "### Numpy full-"
   ]
  },
  {
   "cell_type": "code",
   "execution_count": 8,
   "id": "907863e1",
   "metadata": {},
   "outputs": [
    {
     "data": {
      "text/plain": [
       "array([[44, 44, 44, 44],\n",
       "       [44, 44, 44, 44],\n",
       "       [44, 44, 44, 44]])"
      ]
     },
     "execution_count": 8,
     "metadata": {},
     "output_type": "execute_result"
    }
   ],
   "source": [
    "n5=np.full((3,4),44)\n",
    "n5"
   ]
  },
  {
   "cell_type": "markdown",
   "id": "0de59f40",
   "metadata": {},
   "source": [
    "### Numpy arrange method-"
   ]
  },
  {
   "cell_type": "code",
   "execution_count": 9,
   "id": "86e0af3f",
   "metadata": {},
   "outputs": [
    {
     "data": {
      "text/plain": [
       "array([10, 11, 12, 13, 14])"
      ]
     },
     "execution_count": 9,
     "metadata": {},
     "output_type": "execute_result"
    }
   ],
   "source": [
    "n6=np.arange(10,15)\n",
    "n6"
   ]
  },
  {
   "cell_type": "code",
   "execution_count": 10,
   "id": "2c715c65",
   "metadata": {},
   "outputs": [
    {
     "data": {
      "text/plain": [
       "array([10, 15, 20, 25, 30, 35])"
      ]
     },
     "execution_count": 10,
     "metadata": {},
     "output_type": "execute_result"
    }
   ],
   "source": [
    "n7=np.arange(10,40,5)\n",
    "n7"
   ]
  },
  {
   "cell_type": "markdown",
   "id": "ad0d4f3d",
   "metadata": {},
   "source": [
    "### Numpy random numbers-"
   ]
  },
  {
   "cell_type": "code",
   "execution_count": 11,
   "id": "99c8f7e8",
   "metadata": {},
   "outputs": [
    {
     "data": {
      "text/plain": [
       "array([916, 797, 434, 834, 790])"
      ]
     },
     "execution_count": 11,
     "metadata": {},
     "output_type": "execute_result"
    }
   ],
   "source": [
    "n8=np.random.randint(1,1000,5)\n",
    "n8"
   ]
  },
  {
   "cell_type": "markdown",
   "id": "ea46ccf5",
   "metadata": {},
   "source": [
    "### Numpy shape-"
   ]
  },
  {
   "cell_type": "code",
   "execution_count": 12,
   "id": "94df2ae5",
   "metadata": {},
   "outputs": [
    {
     "data": {
      "text/plain": [
       "array([[10, 20, 30, 40],\n",
       "       [30, 67, 38, 20]])"
      ]
     },
     "execution_count": 12,
     "metadata": {},
     "output_type": "execute_result"
    }
   ],
   "source": [
    "n2"
   ]
  },
  {
   "cell_type": "code",
   "execution_count": 13,
   "id": "db81c6a1",
   "metadata": {},
   "outputs": [
    {
     "data": {
      "text/plain": [
       "(2, 4)"
      ]
     },
     "execution_count": 13,
     "metadata": {},
     "output_type": "execute_result"
    }
   ],
   "source": [
    "n2.shape"
   ]
  },
  {
   "cell_type": "code",
   "execution_count": 14,
   "id": "d93080e2",
   "metadata": {},
   "outputs": [],
   "source": [
    "n2.shape= (4,2)"
   ]
  },
  {
   "cell_type": "code",
   "execution_count": 15,
   "id": "86268415",
   "metadata": {},
   "outputs": [
    {
     "data": {
      "text/plain": [
       "array([[10, 20],\n",
       "       [30, 40],\n",
       "       [30, 67],\n",
       "       [38, 20]])"
      ]
     },
     "execution_count": 15,
     "metadata": {},
     "output_type": "execute_result"
    }
   ],
   "source": [
    "n2"
   ]
  },
  {
   "cell_type": "markdown",
   "id": "d25040ae",
   "metadata": {},
   "source": [
    "### Joining numpy arrays-"
   ]
  },
  {
   "cell_type": "code",
   "execution_count": 16,
   "id": "8f9b5fc4",
   "metadata": {},
   "outputs": [
    {
     "data": {
      "text/plain": [
       "array([[1, 3, 6, 5],\n",
       "       [4, 7, 5, 3]])"
      ]
     },
     "execution_count": 16,
     "metadata": {},
     "output_type": "execute_result"
    }
   ],
   "source": [
    "nn1=np.array([1,3,6,5])\n",
    "nn2=np.array([4,7,5,3])\n",
    "np.vstack((nn1,nn2))"
   ]
  },
  {
   "cell_type": "code",
   "execution_count": 17,
   "id": "9915c28b",
   "metadata": {},
   "outputs": [
    {
     "data": {
      "text/plain": [
       "array([1, 3, 6, 5, 4, 7, 5, 3])"
      ]
     },
     "execution_count": 17,
     "metadata": {},
     "output_type": "execute_result"
    }
   ],
   "source": [
    "np.hstack((nn1,nn2))"
   ]
  },
  {
   "cell_type": "code",
   "execution_count": 18,
   "id": "05b0f5a8",
   "metadata": {},
   "outputs": [
    {
     "data": {
      "text/plain": [
       "array([[1, 4],\n",
       "       [3, 7],\n",
       "       [6, 5],\n",
       "       [5, 3]])"
      ]
     },
     "execution_count": 18,
     "metadata": {},
     "output_type": "execute_result"
    }
   ],
   "source": [
    "np.column_stack((nn1,nn2))"
   ]
  },
  {
   "cell_type": "markdown",
   "id": "5db1229a",
   "metadata": {},
   "source": [
    "### Numpy intersection and differences-"
   ]
  },
  {
   "cell_type": "code",
   "execution_count": 19,
   "id": "dfbee098",
   "metadata": {},
   "outputs": [
    {
     "data": {
      "text/plain": [
       "array([3, 5])"
      ]
     },
     "execution_count": 19,
     "metadata": {},
     "output_type": "execute_result"
    }
   ],
   "source": [
    "np.intersect1d(nn1,nn2)"
   ]
  },
  {
   "cell_type": "code",
   "execution_count": 20,
   "id": "2d3c08c6",
   "metadata": {},
   "outputs": [
    {
     "data": {
      "text/plain": [
       "array([1, 6])"
      ]
     },
     "execution_count": 20,
     "metadata": {},
     "output_type": "execute_result"
    }
   ],
   "source": [
    "np.setdiff1d(nn1,nn2)"
   ]
  },
  {
   "cell_type": "code",
   "execution_count": 21,
   "id": "aa6ab3ad",
   "metadata": {},
   "outputs": [
    {
     "data": {
      "text/plain": [
       "array([4, 7])"
      ]
     },
     "execution_count": 21,
     "metadata": {},
     "output_type": "execute_result"
    }
   ],
   "source": [
    "np.setdiff1d(nn2,nn1)"
   ]
  },
  {
   "cell_type": "markdown",
   "id": "957b54bd",
   "metadata": {},
   "source": [
    "### Numpy array addition-"
   ]
  },
  {
   "cell_type": "code",
   "execution_count": 22,
   "id": "2fefb454",
   "metadata": {},
   "outputs": [
    {
     "data": {
      "text/plain": [
       "34"
      ]
     },
     "execution_count": 22,
     "metadata": {},
     "output_type": "execute_result"
    }
   ],
   "source": [
    "np.sum([nn1,nn2])"
   ]
  },
  {
   "cell_type": "code",
   "execution_count": 23,
   "id": "c62f439c",
   "metadata": {},
   "outputs": [
    {
     "data": {
      "text/plain": [
       "array([ 5, 10, 11,  8])"
      ]
     },
     "execution_count": 23,
     "metadata": {},
     "output_type": "execute_result"
    }
   ],
   "source": [
    "np.sum([nn1,nn2],axis=0)"
   ]
  },
  {
   "cell_type": "code",
   "execution_count": 24,
   "id": "8ae39324",
   "metadata": {},
   "outputs": [
    {
     "data": {
      "text/plain": [
       "array([15, 19])"
      ]
     },
     "execution_count": 24,
     "metadata": {},
     "output_type": "execute_result"
    }
   ],
   "source": [
    "np.sum([nn1,nn2], axis=1)"
   ]
  },
  {
   "cell_type": "markdown",
   "id": "2c074056",
   "metadata": {},
   "source": [
    "### Numpy basic scalar operations-"
   ]
  },
  {
   "cell_type": "code",
   "execution_count": 25,
   "id": "8ab727cd",
   "metadata": {},
   "outputs": [
    {
     "data": {
      "text/plain": [
       "array([ 7, 10, 13, 15])"
      ]
     },
     "execution_count": 25,
     "metadata": {},
     "output_type": "execute_result"
    }
   ],
   "source": [
    "nn3=np.array([2,5,8,10])\n",
    "nn3=nn3+5\n",
    "nn3"
   ]
  },
  {
   "cell_type": "code",
   "execution_count": 26,
   "id": "a9e4b5ec",
   "metadata": {},
   "outputs": [
    {
     "data": {
      "text/plain": [
       "array([1, 4, 7, 9])"
      ]
     },
     "execution_count": 26,
     "metadata": {},
     "output_type": "execute_result"
    }
   ],
   "source": [
    "nn4=np.array([2,5,8,10])\n",
    "nn4=nn4-1\n",
    "nn4"
   ]
  },
  {
   "cell_type": "code",
   "execution_count": 27,
   "id": "5761f121",
   "metadata": {},
   "outputs": [
    {
     "data": {
      "text/plain": [
       "array([1. , 2.5, 4. , 5. ])"
      ]
     },
     "execution_count": 27,
     "metadata": {},
     "output_type": "execute_result"
    }
   ],
   "source": [
    "nn5=np.array([2,5,8,10])\n",
    "nn5=nn5/2\n",
    "nn5"
   ]
  },
  {
   "cell_type": "code",
   "execution_count": 28,
   "id": "ef891d5b",
   "metadata": {},
   "outputs": [
    {
     "data": {
      "text/plain": [
       "array([ 4, 10, 16, 20])"
      ]
     },
     "execution_count": 28,
     "metadata": {},
     "output_type": "execute_result"
    }
   ],
   "source": [
    "nn6=np.array([2,5,8,10])\n",
    "nn6=nn6*2\n",
    "nn6"
   ]
  },
  {
   "cell_type": "markdown",
   "id": "859c3add",
   "metadata": {},
   "source": [
    "### Numpy math function-"
   ]
  },
  {
   "cell_type": "code",
   "execution_count": 29,
   "id": "6c7a042e",
   "metadata": {},
   "outputs": [
    {
     "data": {
      "text/plain": [
       "8.0"
      ]
     },
     "execution_count": 29,
     "metadata": {},
     "output_type": "execute_result"
    }
   ],
   "source": [
    "nn7=np.array([2,4,6,8,10,12,14])\n",
    "np.mean(nn7)"
   ]
  },
  {
   "cell_type": "code",
   "execution_count": 30,
   "id": "0326cc6b",
   "metadata": {},
   "outputs": [
    {
     "data": {
      "text/plain": [
       "8.0"
      ]
     },
     "execution_count": 30,
     "metadata": {},
     "output_type": "execute_result"
    }
   ],
   "source": [
    "np.median(nn7)"
   ]
  },
  {
   "cell_type": "code",
   "execution_count": 31,
   "id": "bea5075c",
   "metadata": {},
   "outputs": [
    {
     "data": {
      "text/plain": [
       "4.0"
      ]
     },
     "execution_count": 31,
     "metadata": {},
     "output_type": "execute_result"
    }
   ],
   "source": [
    "np.std(nn7)"
   ]
  },
  {
   "cell_type": "markdown",
   "id": "b86e0ec7",
   "metadata": {},
   "source": [
    "### Numpy save and load-"
   ]
  },
  {
   "cell_type": "code",
   "execution_count": 33,
   "id": "4b94b818",
   "metadata": {},
   "outputs": [
    {
     "data": {
      "text/plain": [
       "array([75, 16, 63, 42, 37])"
      ]
     },
     "execution_count": 33,
     "metadata": {},
     "output_type": "execute_result"
    }
   ],
   "source": [
    "nn8=np.random.randint(12,100,5)\n",
    "nn8"
   ]
  },
  {
   "cell_type": "code",
   "execution_count": 34,
   "id": "edef248f",
   "metadata": {},
   "outputs": [],
   "source": [
    "np.save('random_numpy', nn8)"
   ]
  },
  {
   "cell_type": "code",
   "execution_count": 36,
   "id": "19beda68",
   "metadata": {},
   "outputs": [
    {
     "data": {
      "text/plain": [
       "array([75, 16, 63, 42, 37])"
      ]
     },
     "execution_count": 36,
     "metadata": {},
     "output_type": "execute_result"
    }
   ],
   "source": [
    "nn9=np.load('random_numpy.npy')\n",
    "nn9"
   ]
  },
  {
   "cell_type": "code",
   "execution_count": null,
   "id": "a69d40c2",
   "metadata": {},
   "outputs": [],
   "source": []
  }
 ],
 "metadata": {
  "kernelspec": {
   "display_name": "Python 3 (ipykernel)",
   "language": "python",
   "name": "python3"
  },
  "language_info": {
   "codemirror_mode": {
    "name": "ipython",
    "version": 3
   },
   "file_extension": ".py",
   "mimetype": "text/x-python",
   "name": "python",
   "nbconvert_exporter": "python",
   "pygments_lexer": "ipython3",
   "version": "3.11.5"
  }
 },
 "nbformat": 4,
 "nbformat_minor": 5
}
